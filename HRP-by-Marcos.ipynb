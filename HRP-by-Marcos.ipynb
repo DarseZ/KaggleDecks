{
 "cells": [
  {
   "cell_type": "markdown",
   "metadata": {},
   "source": [
    "分层风险平价是基于多因子协方差矩阵和由此导出的标的协方差矩阵的分散化资产配置模型。\n",
    "相较于传统的二次优化器，其最大的优势在于解决了：Instability（对预测收益率参数的敏感度）, concentration（标的配置的集中）, underperformance（最终效果甚至不如等权分配）\n",
    "从算法层面来讲，传统资产配置中对协方差矩阵做逆变换这一步，其数学含义为在估计一对（pair）标的间的相关系数时遍历了整个信息域，导致很小的估计误差带来了配置方案的巨大差异，因此有必要将信息域中不必要的边drop掉，分层的树结构呼之欲出。\n",
    "不仅是解决了传统优化算法的缺点，分层风险平价更是不惧病态协方差矩阵（无须可逆性和正定性），这是二次优化器做不到的。\n",
    "Framwwork:\n",
    "    Preprocessing on cov.related work\n",
    "    Tree cluster\n",
    "    Quasi-Diagonalization\n",
    "    Recursive bisection\n",
    "    Post numerical experiment\n",
    "    Backtest on chinese stock market"
   ]
  },
  {
   "cell_type": "markdown",
   "metadata": {},
   "source": [
    "本脚本为分层算法的BabyVersion，有助于理解远离"
   ]
  },
  {
   "cell_type": "code",
   "execution_count": 3,
   "metadata": {},
   "outputs": [],
   "source": [
    "import numpy as np\n",
    "import pandas as pd\n",
    "import matplotlib.pyplot as mpl\n",
    "import scipy.spatial.distance as ssd\n",
    "import scipy.cluster.hierarchy as sch\n",
    "import random"
   ]
  },
  {
   "cell_type": "code",
   "execution_count": 2,
   "metadata": {},
   "outputs": [],
   "source": [
    "#Stage 1\n",
    "def getIVP( cov , **kargs):\n",
    "   \n",
    "    # compute the inverse-variance portfolio\n",
    "    ivp = 1 / np.diag(cov)   #ivp为一维数组\n",
    "    ivp /= ivp.sum()\n",
    "    return ivp               #最终方差大的部分ivp较小\n",
    "\n",
    "def getClusterVar( cov,cItems ):\n",
    "    #compute variance per cluster\n",
    "    cov_ = cov.loc[ cItems,cItems ]  # matrix slice\n",
    "    w_ = getIVP(cov_).reshape(-1,1)  #设定reshape后列数为1，行数-1代表自动匹配计算，w_为 X by 1 的风险分配权重\n",
    "    cVar = np.dot( np.dot(w_.T, cov_),w_ )[0,0]   # 1byX * XbyX * Xby1\n",
    "    return cVar"
   ]
  },
  {
   "cell_type": "code",
   "execution_count": 4,
   "metadata": {},
   "outputs": [],
   "source": [
    "#Stage 2\n",
    "def getQuasiDiag( link ):\n",
    "    #执行Quasi-Diagonization的步骤，将因子暴露意义下相似的股票放到一起\n",
    "    #sort clustered items by distance\n",
    "    link = link.astype(int) #returns a copy of the array converted to the specified type\n",
    "    #sortIx记录每一层的组分\n",
    "    sortIx = pd.Series( [link[-1,0] , link[-1,1]] )\n",
    "    numItems = link[-1,3]    # number of original items,最后一行为root\n",
    "    while sortIx.max() >= numItems:\n",
    "        sortIx.index = range(0 , sortIx.shape[0]*2 , 2)  #make space, step_length = 2\n",
    "        df0 = sortIx[ sortIx>=numItems ]                 #find clusters，把代表cluster而非originalelement的取出来\n",
    "        i = df0.index; j = df0.values - numItems\n",
    "        sortIx[i] = link[j,0]     #item 1\n",
    "        df0 = pd.Series( link[j,1] , index=i+1)  #循环变量在这里结束时+1\n",
    "        sortIx = sortIx.append(df0)  #item 2\n",
    "        sortIx = sortIx.sort_index()  #re-sort\n",
    "        sortIx.index = range( sortIx.shape[0] ) #re-index\n",
    "    return sortIx.tolist()"
   ]
  },
  {
   "cell_type": "code",
   "execution_count": 5,
   "metadata": {},
   "outputs": [],
   "source": [
    "#Stage 3\n",
    "def getRecBipart( cov, sortIx ):\n",
    "    # Bottom-up: Define the variance of a continuous subset as the variance of an inverse-variance allocation\n",
    "    # Top-down: Split allocations btw adjacent subsets in inverse proportion to their aggregated variances\n",
    "    w = pd.Series(1 , index=sortIx)\n",
    "    cItems = [sortIx]     #initialize all items in one cluster\n",
    "    while len(cItems)>0:\n",
    "        cItems = [ i[j:k] for i in cItems for j,k in ( (0,len(i)//2),(len(i)//2,len(i)) ) if len(i)>1 ]\n",
    "        # above: bi-section\n",
    "        for i in range(0, len(cItems), 2):    #parse in pairs\n",
    "            cItems0 = cItems[i]   #cluster 1\n",
    "            cItems1 = cItems[i+1] #cluster 2\n",
    "            cVar0 = getClusterVar( cov,cItems0)\n",
    "            cVar1 = getClusterVar( cov,cItems1)\n",
    "            alpha = 1 - cVar0/(cVar0+cVar1)\n",
    "            w[cItems0] *= alpha    #weight1\n",
    "            w[cItems1] *= 1-alpha  #weight2\n",
    "        \n",
    "    return w   #返回最终标的权重Series"
   ]
  },
  {
   "cell_type": "code",
   "execution_count": 6,
   "metadata": {},
   "outputs": [],
   "source": [
    "#Stage 0\n",
    "def correlDist(corr):\n",
    "    # Output a distance matrix based on correlation, where 0<= d[i,j] <=1\n",
    "    #合理的距离测度，针对于由相关性定义的原始距离矩阵\n",
    "    dist = ( (1-corr)/2. )**.5\n",
    "    return dist\n",
    "\n",
    "def CalEucliDist(vec1,vec2):  \n",
    "    #Output euclidean distance\n",
    "    #vec1,vec2分别为两个np.array\n",
    "    eucli = np.sqrt( np.sum( np.square(vec1 - vec2) ) )  \n",
    "    return eucli \n",
    "\n",
    "def correlDist_ofDist1(dist):\n",
    "    # A distance matrix based on original dist matrix\n",
    "    # Compute the Euclidean distance btw any two col-vectors of dist\n",
    "    # Therefore, new mat is a distance defined over the ENTIRE metric space,\\\n",
    "    # Rather than a PARTICULAR cross-correlation pair!\n",
    "    dist_ofDist = np.empty( shape(dist) )\n",
    "    \n",
    "    for i in range( 0,shape(dist)(1) ):\n",
    "        for j in range( i+1,shape(dist)(1) ):\n",
    "            dist_ofDist[i,j] = CalEucliDist( dist[:,i],dist[:,j] )\n",
    "            dist_ofDist[j,i] = dist_ofDist[i,j]\n",
    "            \n",
    "    dist_ofDist = ssd.squareform(dist_ofDist)\n",
    "    return dist_ofDist  # 转换为CondensedForm的\n",
    "\n",
    "#Otherwise, 可以调用scipy包中高维空间距离矩阵的算法\n",
    "def correlDist_ofDist2(dist):\n",
    "    dist_ofDist = ssd.pdist( dist, 'euclidean' )  #返回CondensedForm，即只有上三角部分存成数组形式\n",
    "    \n",
    "    return dist_ofDist  # CondensedForm的"
   ]
  },
  {
   "cell_type": "code",
   "execution_count": 7,
   "metadata": {},
   "outputs": [],
   "source": [
    "def plotCorrMatrix( path, corr, labels=None):\n",
    "    # Heatmapping of the corr matri\n",
    "    if labels is None: labels = []\n",
    "    mpl.pcolor(corr)\n",
    "    mpl.colorbar()\n",
    "    mpl.yticks( np.arange(.5 , corr.shape[0]+.5) , labels )\n",
    "    mpl.xticks( np.arange(.5 , corr.shape[0]+.5) , labels )\n",
    "    mpl.savefig(path)\n",
    "    mpl.clf(); mpl.close()   # reset pylab\n",
    "    return"
   ]
  },
  {
   "cell_type": "code",
   "execution_count": 8,
   "metadata": {},
   "outputs": [],
   "source": [
    "def plotLink(link):\n",
    "    #calculate all dendrogram\n",
    "    mpl.figure(figsize = (25,10))\n",
    "    mpl.title('Clustering Dendrogram')\n",
    "    mpl.xlabel('saplte index')\n",
    "    mpl.ylabel('distance')\n",
    "    sch.dendrogram(\n",
    "        link,\n",
    "        leaf_rotation = 90. ,# rotates the x axis labels\n",
    "        leaf_font_size = 12. , #font size for the x axis labels\n",
    "    )\n",
    "    mpl.show()"
   ]
  },
  {
   "cell_type": "code",
   "execution_count": 9,
   "metadata": {},
   "outputs": [],
   "source": [
    "def generateData( nObs, size0 ,size1 ,sigma1):\n",
    "    # Time series of correlated variables\n",
    "    # UNcorrelated Data\n",
    "    np.random.seed(seed=54321); random.seed(12345)\n",
    "    x = np.random.normal( 0 ,1 , size=(nObs ,size0)) #each row is a variable\n",
    "    # Creating correlation btw the variables\n",
    "    #五条原始的独立序列，五条衍生出的相关序列\n",
    "    cols = [ random.randint(0 , size0-1) for i in range(size1)]\n",
    "    y = x[: , cols] + np.random.normal( 0 ,sigma1 ,size=(nObs , len(cols)))\n",
    "    #再把衍生序列叠加到原始序列边上\n",
    "    x = np.append(x ,y ,axis =1)\n",
    "    x = pd.DataFrame( x, columns = range(1 ,x.shape[1]+1) )\n",
    "    return x,cols"
   ]
  },
  {
   "cell_type": "code",
   "execution_count": null,
   "metadata": {},
   "outputs": [],
   "source": [
    "def tail_ratio(returns):\n",
    "    \"\"\"Determines the ratiro btw the right95% and left5% tail\n",
    "     Input:\n",
    "     returns: pd.Series\n",
    "          dailt returns of strategy, noncumulative\n",
    "     Output:\n",
    "     tail ratio describing how good or bad the relative tails will leads to\n",
    "     \"\"\"\n",
    "    return np.abs(np.percentile(returns,95)) / np.abs(np.percentile(returns,5))"
   ]
  },
  {
   "cell_type": "code",
   "execution_count": 11,
   "metadata": {},
   "outputs": [],
   "source": [
    "def main1():\n",
    "    # 一、生成相关性时间序列\n",
    "    nObs , size0 ,size1 , sigma1 = 10000, 5 , 5, .25\n",
    "    x , cols = generateData( nObs, size0 ,size1 , sigma1)\n",
    "    print( [ (j+1 , size0+i) for i,j in enumerate(cols,1) ] )\n",
    "    \n",
    "    return x"
   ]
  },
  {
   "cell_type": "code",
   "execution_count": 12,
   "metadata": {},
   "outputs": [
    {
     "name": "stdout",
     "output_type": "stream",
     "text": [
      "[(4, 6), (1, 7), (3, 8), (3, 9), (2, 10)]\n"
     ]
    }
   ],
   "source": [
    "x = main1()"
   ]
  },
  {
   "cell_type": "code",
   "execution_count": 13,
   "metadata": {},
   "outputs": [
    {
     "data": {
      "text/plain": [
       "<matplotlib.axes._subplots.AxesSubplot at 0x915ee10>"
      ]
     },
     "execution_count": 13,
     "metadata": {},
     "output_type": "execute_result"
    },
    {
     "data": {
      "image/png": "[encoded data removed]",
      "text/plain": [
       "<Figure size 432x288 with 1 Axes>"
      ]
     },
     "metadata": {},
     "output_type": "display_data"
    }
   ],
   "source": [
    "x.cumsum(0).plot()"
   ]
  },
  {
   "cell_type": "code",
   "execution_count": 14,
   "metadata": {},
   "outputs": [],
   "source": [
    "def main2(x):\n",
    "    #二、计算并画出相关矩阵\n",
    "    cov , corr = x.cov() , x.corr()\n",
    "    plotCorrMatrix('HRP3_corr0.png' , corr ,labels = corr.columns)\n",
    "    \n",
    "    return cov, corr\n",
    "\n",
    "cov, corr = main2(x)"
   ]
  },
  {
   "cell_type": "code",
   "execution_count": 15,
   "metadata": {},
   "outputs": [],
   "source": [
    "def main3(corr):\n",
    "    #三、聚类\n",
    "    dist = correlDist(corr)  #Output a original dist matrix\n",
    "    \n",
    "    dist = ssd.squareform(dist)  # Transformed into condensed form\n",
    "    #new_dist = correlDist_ofDist2(dist)   #Output a manipulated dist matrix\n",
    "    \n",
    "    # Sure about the condensed form of input dist ???\n",
    "    \n",
    "    link = sch.linkage( dist , 'single' )  # 完成聚类工作。返回的link为 列数为4 的矩阵，每行元素分别为两个constituents,一个距离，一个类内元素数目\n",
    "# Performs hierarchical/agglomerative clustering on the Condensed distance matrix y.\n",
    "# linkage methods are used to compute the distance (d(s, t)) between two clusters (s) and (t).\n",
    "# The algorithm begins with a forest of clusters that have yet to be used in the hierarchy being formed.\n",
    "# When two clusters (s) and (t) from this forest are combined into a single cluster (u), (s) and (t) are removed from the forest, and (u) is added to the forest.\n",
    "# When only one cluster remains in the forest, the algorithm stops, and this cluster becomes the root. (从分支逐渐回溯到根)\n",
    "    sortIx = getQuasiDiag(link)\n",
    "    sortIx = corr.index[sortIx].tolist()  #recover labels\n",
    "    df0 = corr.loc[ sortIx , sortIx]      #reorder\n",
    "    plotCorrMatrix('HRP3_corr1.png', df0 ,labels = df0.columns)\n",
    "\n",
    "    return sortIx\n",
    "\n",
    "sortIx = main3(corr)"
   ]
  },
  {
   "cell_type": "code",
   "execution_count": 16,
   "metadata": {},
   "outputs": [
    {
     "data": {
      "text/plain": [
       "[9, 3, 8, 1, 7, 2, 10, 5, 4, 6]"
      ]
     },
     "execution_count": 16,
     "metadata": {},
     "output_type": "execute_result"
    }
   ],
   "source": [
    "sortIx    #这就是类对角化后的标的排序"
   ]
  },
  {
   "cell_type": "code",
   "execution_count": 17,
   "metadata": {},
   "outputs": [
    {
     "name": "stdout",
     "output_type": "stream",
     "text": [
      "9     1\n",
      "3     1\n",
      "8     1\n",
      "1     1\n",
      "7     1\n",
      "2     1\n",
      "10    1\n",
      "5     1\n",
      "4     1\n",
      "6     1\n",
      "dtype: int64\n"
     ]
    }
   ],
   "source": [
    "def main4(cov,sortIx):\n",
    "    #四、资产配置\n",
    "    hrp = getRecBipart(cov , sortIx)\n",
    "    print ( hrp )\n",
    "    return\n",
    "\n",
    "main4(cov, sortIx)\n",
    "\n"
   ]
  },
  {
   "cell_type": "code",
   "execution_count": null,
   "metadata": {},
   "outputs": [],
   "source": [
    "def getHRP(cov, corr):\n",
    "   \n",
    "    #Construct a hierarchical portfolio\n",
    "    corr,cov = pd.DataFrame(corr),pd.DataFrame(cov)\n",
    "    dist = correlDist(corr)\n",
    "    \n",
    "    new_dist = correlDist_ofDist2(dist)\n",
    "    \n",
    "    link = sch.linkage(new_dist,'single')\n",
    "    plotLink(link)\n",
    "    \n",
    "    sortIx = getQuasiDiag(link)\n",
    "    sortIx = corr.index[sortIx].tolist()\n",
    "    hrp = getRecBipart(cov, sortIx)\n",
    "    \n",
    "    return hrp.sort_index()"
   ]
  },
  {
   "cell_type": "code",
   "execution_count": 29,
   "metadata": {},
   "outputs": [],
   "source": [
    "def real_main():\n",
    "    \n",
    "    # 一、生成相关性时间序列\n",
    "    nObs , size0 ,size1 , sigma1 = 10000, 5 , 5, .25\n",
    "    x , cols = generateData( nObs, size0 ,size1 , sigma1)\n",
    "    print( [ (j+1 , size0+i) for i,j in enumerate(cols,1) ] )\n",
    "    \n",
    "    #二、计算并画出相关矩阵\n",
    "    cov , corr = x.cov() , x.corr()\n",
    "    plotCorrMatrix('HRP3_corr0.png' , corr ,labels = corr.columns)\n",
    "    \n",
    "    #三、聚类\n",
    "    dist = correlDist(corr)  #Output a original dist matrix\n",
    "    \n",
    "    dist = ssd.squareform(dist)  # Transformed into condensed form\n",
    "    #new_dist = correlDist_ofDist2(dist)   #Output a manipulated dist matrix\n",
    "    \n",
    "    # Sure about the condensed form of input dist ???\n",
    "    \n",
    "    link = sch.linkage( dist , 'single' )  # 完成聚类工作。返回的link为 列数为4 的矩阵，每行元素分别为两个constituents,一个距离，一个类内元素数目\n",
    "# Performs hierarchical/agglomerative clustering on the Condensed distance matrix y.\n",
    "# linkage methods are used to compute the distance (d(s, t)) between two clusters (s) and (t).\n",
    "# The algorithm begins with a forest of clusters that have yet to be used in the hierarchy being formed.\n",
    "# When two clusters (s) and (t) from this forest are combined into a single cluster (u), (s) and (t) are removed from the forest, and (u) is added to the forest.\n",
    "# When only one cluster remains in the forest, the algorithm stops, and this cluster becomes the root. (从分支逐渐回溯到根)\n",
    "    \n",
    "    plotLink(link)\n",
    "    \n",
    "    sortIx = getQuasiDiag(link)\n",
    "    sortIx = corr.index[sortIx].tolist()  #recover labels\n",
    "    df0 = corr.loc[ sortIx , sortIx]      #reorder\n",
    "    plotCorrMatrix('HRP3_corr1.png', df0 ,labels = df0.columns)\n",
    "    \n",
    "    #四、资产配置\n",
    "    hrp = getRecBipart(cov , sortIx)\n",
    "    print ( len(hrp.sort_index()) )\n",
    "    \n",
    "    ivp = getIVP(cov)\n",
    "    print(len(ivp))\n",
    "    \n",
    "    return\n",
    "#-------------------------------------------------------------\n",
    "\n",
    "#if _name_ == '_main_':main()"
   ]
  },
  {
   "cell_type": "code",
   "execution_count": 30,
   "metadata": {},
   "outputs": [
    {
     "name": "stdout",
     "output_type": "stream",
     "text": [
      "[(4, 6), (1, 7), (3, 8), (3, 9), (2, 10)]\n"
     ]
    },
    {
     "data": {
      "image/png": "[encoded data removed]",
      "text/plain": [
       "<Figure size 1800x720 with 1 Axes>"
      ]
     },
     "metadata": {},
     "output_type": "display_data"
    },
    {
     "name": "stdout",
     "output_type": "stream",
     "text": [
      "10\n",
      "10\n"
     ]
    }
   ],
   "source": [
    "hrp_result = real_main()"
   ]
  },
  {
   "cell_type": "code",
   "execution_count": null,
   "metadata": {},
   "outputs": [],
   "source": []
  }
 ],
 "metadata": {
  "kernelspec": {
   "display_name": "Python 3",
   "language": "python",
   "name": "python3"
  },
  "language_info": {
   "codemirror_mode": {
    "name": "ipython",
    "version": 3
   },
   "file_extension": ".py",
   "mimetype": "text/x-python",
   "name": "python",
   "nbconvert_exporter": "python",
   "pygments_lexer": "ipython3",
   "version": "3.6.5"
  }
 },
 "nbformat": 4,
 "nbformat_minor": 2
}
